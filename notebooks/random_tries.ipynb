{
 "cells": [
  {
   "cell_type": "code",
   "execution_count": 9,
   "metadata": {},
   "outputs": [
    {
     "data": {
      "text/plain": [
       "True"
      ]
     },
     "execution_count": 9,
     "metadata": {},
     "output_type": "execute_result"
    }
   ],
   "source": [
    "import os\n",
    "import pandas as pd\n",
    "import sys\n",
    "\n",
    "current_directory =  os.getcwd()\n",
    "parent_directory = os.path.dirname(current_directory)\n",
    "modules_folder = os.path.join(parent_directory, 'modules_folderA') \n",
    "\n",
    "#grand_parent_directory = path.dirname(parent_directory)\n",
    "\n",
    "\n",
    "sys.path.insert(0, parent_directory) # defined root folder 1 step up\n",
    "\n",
    "\n",
    "#defining files for testing:\n",
    "parent_folder = os.path.dirname(os.getcwd())\n",
    "xlsx_file_name = 'xlsx_file.xlsx'\n",
    "csv_file_name = 'csv_file.csv'\n",
    "xlsx_file_path = os.path.join(current_folder, '..', 'test_files', xlsx_file_name)\n",
    "csv_file_path = os.path.join(current_folder, '..', 'test_files', csv_file_name)\n",
    "txt_file_path = os.path.join(current_folder, '..', 'test_files', 'txt_file.csv')\n",
    "csv_file_path[-4:]=='.csv'"
   ]
  },
  {
   "cell_type": "code",
   "execution_count": 10,
   "metadata": {},
   "outputs": [],
   "source": [
    "path_to_add_to_sys = os.path.join(os.getcwd(), '..', 'experiments')\n",
    "sys.path.insert(0,path_to_add_to_sys)\n",
    "from test_class1 import test_class1"
   ]
  },
  {
   "cell_type": "code",
   "execution_count": 11,
   "metadata": {},
   "outputs": [
    {
     "name": "stdout",
     "output_type": "stream",
     "text": [
      ".csv\n"
     ]
    }
   ],
   "source": [
    "object_of_class = test_class1(txt_file_path)"
   ]
  },
  {
   "cell_type": "code",
   "execution_count": 12,
   "metadata": {},
   "outputs": [
    {
     "data": {
      "text/plain": [
       "array([[54.3636158 , 54.82508441, 55.95508972, 55.96538199, 54.06238808,\n",
       "        55.12448371, 54.1273898 , 53.87419297, 54.55733883, 53.69266529,\n",
       "        53.57837984, 54.37203659, 54.29636481, 55.69101252, 55.71405874,\n",
       "        54.26998906, 57.00023632, 55.55251126, 57.27644528, 54.86386548,\n",
       "        54.47947683, 55.3225053 , 55.64570706, 54.70912786, 55.64217475,\n",
       "        56.1395378 , 55.12055449, 55.68108736, 53.98208287, 54.1039904 ],\n",
       "       [67.24663045, 64.9144682 , 64.60307316, 65.91560636, 66.60077603,\n",
       "        67.01184313, 65.87114903, 67.19608408, 65.96507096, 66.17958508,\n",
       "        64.53372514, 66.43657362, 64.1086155 , 66.02209088, 65.96623371,\n",
       "        65.73193343, 66.38652063, 65.42079165, 65.42739151, 65.63585954,\n",
       "        67.34636987, 66.27957008, 65.2149909 , 65.83273982, 66.8277381 ,\n",
       "        66.33102454, 67.48443093, 69.0620113 , 66.59592392, 67.64483203]])"
      ]
     },
     "execution_count": 12,
     "metadata": {},
     "output_type": "execute_result"
    }
   ],
   "source": [
    "import numpy as np\n",
    "x = np.random.randn(2,30)\n",
    "x += np.array([[55],[66]])\n",
    "x"
   ]
  },
  {
   "cell_type": "code",
   "execution_count": 18,
   "metadata": {},
   "outputs": [
    {
     "ename": "ValueError",
     "evalue": "operands could not be broadcast together with shapes (0,30) (2,1) (0,30) ",
     "output_type": "error",
     "traceback": [
      "\u001b[1;31m---------------------------------------------------------------------------\u001b[0m",
      "\u001b[1;31mValueError\u001b[0m                                Traceback (most recent call last)",
      "Cell \u001b[1;32mIn[18], line 3\u001b[0m\n\u001b[0;32m      1\u001b[0m data_2d\u001b[38;5;241m=\u001b[39mnp\u001b[38;5;241m.\u001b[39mrandom\u001b[38;5;241m.\u001b[39mrandn(\u001b[38;5;241m2\u001b[39m, \u001b[38;5;241m30\u001b[39m)\n\u001b[0;32m      2\u001b[0m data_2d[:\u001b[38;5;241m500\u001b[39m] \u001b[38;5;241m-\u001b[39m\u001b[38;5;241m=\u001b[39m np\u001b[38;5;241m.\u001b[39marray([[\u001b[38;5;241m-\u001b[39m\u001b[38;5;241m2\u001b[39m],[\u001b[38;5;241m-\u001b[39m\u001b[38;5;241m4\u001b[39m]])\n\u001b[1;32m----> 3\u001b[0m data_2d[\u001b[38;5;241m500\u001b[39m:] \u001b[38;5;241m+\u001b[39m\u001b[38;5;241m=\u001b[39m np\u001b[38;5;241m.\u001b[39marray([[\u001b[38;5;241m2\u001b[39m],[\u001b[38;5;241m3\u001b[39m]])\n",
      "\u001b[1;31mValueError\u001b[0m: operands could not be broadcast together with shapes (0,30) (2,1) (0,30) "
     ]
    }
   ],
   "source": [
    "    data_2d=np.random.randn(2, 30)\n",
    "    data_2d[:500] -= np.array([[-2],[-4]])\n",
    "    data_2d[500:] += np.array([[2],[3]])"
   ]
  },
  {
   "cell_type": "code",
   "execution_count": 26,
   "metadata": {},
   "outputs": [
    {
     "data": {
      "text/plain": [
       "array([[-1.01967016, -0.77467156, -1.34216092, ...,  0.36886943,\n",
       "        -0.41072036,  5.52630653],\n",
       "       [-2.46768873, -1.74356924, -1.42749123, ...,  3.19517591,\n",
       "         3.15252437,  3.11470464]])"
      ]
     },
     "execution_count": 26,
     "metadata": {},
     "output_type": "execute_result"
    }
   ],
   "source": [
    "    x1 = np.random.normal(-2,1,700)\n",
    "    x2 = np.random.normal(2.5,3,150)\n",
    "    x = np.append(x1, x2)\n",
    "    np.random.shuffle(x)\n",
    "    y1 = np.random.normal(-2,0.5,700)\n",
    "    y2 = np.random.normal(2.5,1,150)\n",
    "    y = np.append(y1, y2)\n",
    "    data_2d = np.array([x,y])\n",
    "    data_2d"
   ]
  },
  {
   "cell_type": "code",
   "execution_count": 1,
   "metadata": {},
   "outputs": [
    {
     "ename": "NameError",
     "evalue": "name 'np' is not defined",
     "output_type": "error",
     "traceback": [
      "\u001b[1;31m---------------------------------------------------------------------------\u001b[0m",
      "\u001b[1;31mNameError\u001b[0m                                 Traceback (most recent call last)",
      "Cell \u001b[1;32mIn[1], line 13\u001b[0m\n\u001b[0;32m     10\u001b[0m     data_2d \u001b[38;5;241m=\u001b[39m np\u001b[38;5;241m.\u001b[39marray([x,y])\n\u001b[0;32m     11\u001b[0m     \u001b[38;5;28;01mreturn\u001b[39;00m data_2d\n\u001b[1;32m---> 13\u001b[0m x1 \u001b[38;5;241m=\u001b[39m \u001b[43mget_2d_distr_with_outliers\u001b[49m\u001b[43m(\u001b[49m\u001b[43m)\u001b[49m\n\u001b[0;32m     14\u001b[0m x1[\u001b[38;5;241m0\u001b[39m]\n",
      "Cell \u001b[1;32mIn[1], line 2\u001b[0m, in \u001b[0;36mget_2d_distr_with_outliers\u001b[1;34m()\u001b[0m\n\u001b[0;32m      1\u001b[0m \u001b[38;5;28;01mdef\u001b[39;00m \u001b[38;5;21mget_2d_distr_with_outliers\u001b[39m():\n\u001b[1;32m----> 2\u001b[0m     x1 \u001b[38;5;241m=\u001b[39m \u001b[43mnp\u001b[49m\u001b[38;5;241m.\u001b[39mrandom\u001b[38;5;241m.\u001b[39mnormal(\u001b[38;5;241m-\u001b[39m\u001b[38;5;241m2\u001b[39m,\u001b[38;5;241m1\u001b[39m,\u001b[38;5;241m700\u001b[39m)\n\u001b[0;32m      3\u001b[0m     x2 \u001b[38;5;241m=\u001b[39m np\u001b[38;5;241m.\u001b[39mrandom\u001b[38;5;241m.\u001b[39mnormal(\u001b[38;5;241m2.5\u001b[39m,\u001b[38;5;241m3\u001b[39m,\u001b[38;5;241m150\u001b[39m)\n\u001b[0;32m      4\u001b[0m     x \u001b[38;5;241m=\u001b[39m np\u001b[38;5;241m.\u001b[39mappend(x1, x2)\n",
      "\u001b[1;31mNameError\u001b[0m: name 'np' is not defined"
     ]
    }
   ],
   "source": [
    "def get_2d_distr_with_outliers():\n",
    "    x1 = np.random.normal(-2,1,700)\n",
    "    x2 = np.random.normal(2.5,3,150)\n",
    "    x = np.append(x1, x2)\n",
    "    np.random.shuffle(x)\n",
    "    y1 = np.random.normal(-2,0.5,700)\n",
    "    y2 = np.random.normal(2.5,1,150)\n",
    "    y = np.append(y1, y2)\n",
    "    np.random.shuffle(y)\n",
    "    data_2d = np.array([x,y])\n",
    "    return data_2d\n",
    "\n",
    "x1 = get_2d_distr_with_outliers()\n",
    "x1[0]"
   ]
  },
  {
   "cell_type": "code",
   "execution_count": 12,
   "metadata": {},
   "outputs": [
    {
     "name": "stdout",
     "output_type": "stream",
     "text": [
      "c:\\Users\\Savvas\\Documents\\Projects\\AnomalyDetectionTool\\notebooks\\..\\test_files\\txt_file.csv\n"
     ]
    },
    {
     "ename": "FileNotFoundError",
     "evalue": "[Errno 2] No such file or directory: 'c:\\\\Users\\\\Savvas\\\\Documents\\\\Projects\\\\AnomalyDetectionTool\\\\notebooks\\\\..\\\\test_files\\\\txt_file.csv'",
     "output_type": "error",
     "traceback": [
      "\u001b[1;31m---------------------------------------------------------------------------\u001b[0m",
      "\u001b[1;31mFileNotFoundError\u001b[0m                         Traceback (most recent call last)",
      "Cell \u001b[1;32mIn[12], line 3\u001b[0m\n\u001b[0;32m      1\u001b[0m \u001b[38;5;28;01mfrom\u001b[39;00m \u001b[38;5;21;01msrc\u001b[39;00m\u001b[38;5;21;01m.\u001b[39;00m\u001b[38;5;21;01mdata_processing\u001b[39;00m\u001b[38;5;21;01m.\u001b[39;00m\u001b[38;5;21;01mDataReader\u001b[39;00m \u001b[38;5;28;01mimport\u001b[39;00m DataReader\n\u001b[0;32m      2\u001b[0m object_of_class \u001b[38;5;241m=\u001b[39m DataReader(txt_file_path)\n\u001b[1;32m----> 3\u001b[0m \u001b[43mobject_of_class\u001b[49m\u001b[38;5;241;43m.\u001b[39;49m\u001b[43mget_user_data_df\u001b[49m\u001b[43m(\u001b[49m\u001b[43m)\u001b[49m\n",
      "File \u001b[1;32mc:\\Users\\Savvas\\Documents\\Projects\\AnomalyDetectionTool\\src\\data_processing\\DataReader.py:17\u001b[0m, in \u001b[0;36mDataReader.get_user_data_df\u001b[1;34m(self)\u001b[0m\n\u001b[0;32m     15\u001b[0m     \u001b[38;5;28;01mreturn\u001b[39;00m pd\u001b[38;5;241m.\u001b[39mread_excel(\u001b[38;5;28mself\u001b[39m\u001b[38;5;241m.\u001b[39mdatafile)\n\u001b[0;32m     16\u001b[0m \u001b[38;5;28;01melif\u001b[39;00m \u001b[38;5;28mself\u001b[39m\u001b[38;5;241m.\u001b[39mfile_is_csv():\n\u001b[1;32m---> 17\u001b[0m     \u001b[38;5;28;01mreturn\u001b[39;00m \u001b[43mpd\u001b[49m\u001b[38;5;241;43m.\u001b[39;49m\u001b[43mread_csv\u001b[49m\u001b[43m(\u001b[49m\u001b[38;5;28;43mself\u001b[39;49m\u001b[38;5;241;43m.\u001b[39;49m\u001b[43mdatafile\u001b[49m\u001b[43m)\u001b[49m\n",
      "File \u001b[1;32mc:\\Users\\Savvas\\Documents\\Projects\\AnomalyDetectionTool\\venv\\lib\\site-packages\\pandas\\io\\parsers\\readers.py:1026\u001b[0m, in \u001b[0;36mread_csv\u001b[1;34m(filepath_or_buffer, sep, delimiter, header, names, index_col, usecols, dtype, engine, converters, true_values, false_values, skipinitialspace, skiprows, skipfooter, nrows, na_values, keep_default_na, na_filter, verbose, skip_blank_lines, parse_dates, infer_datetime_format, keep_date_col, date_parser, date_format, dayfirst, cache_dates, iterator, chunksize, compression, thousands, decimal, lineterminator, quotechar, quoting, doublequote, escapechar, comment, encoding, encoding_errors, dialect, on_bad_lines, delim_whitespace, low_memory, memory_map, float_precision, storage_options, dtype_backend)\u001b[0m\n\u001b[0;32m   1013\u001b[0m kwds_defaults \u001b[38;5;241m=\u001b[39m _refine_defaults_read(\n\u001b[0;32m   1014\u001b[0m     dialect,\n\u001b[0;32m   1015\u001b[0m     delimiter,\n\u001b[1;32m   (...)\u001b[0m\n\u001b[0;32m   1022\u001b[0m     dtype_backend\u001b[38;5;241m=\u001b[39mdtype_backend,\n\u001b[0;32m   1023\u001b[0m )\n\u001b[0;32m   1024\u001b[0m kwds\u001b[38;5;241m.\u001b[39mupdate(kwds_defaults)\n\u001b[1;32m-> 1026\u001b[0m \u001b[38;5;28;01mreturn\u001b[39;00m \u001b[43m_read\u001b[49m\u001b[43m(\u001b[49m\u001b[43mfilepath_or_buffer\u001b[49m\u001b[43m,\u001b[49m\u001b[43m \u001b[49m\u001b[43mkwds\u001b[49m\u001b[43m)\u001b[49m\n",
      "File \u001b[1;32mc:\\Users\\Savvas\\Documents\\Projects\\AnomalyDetectionTool\\venv\\lib\\site-packages\\pandas\\io\\parsers\\readers.py:620\u001b[0m, in \u001b[0;36m_read\u001b[1;34m(filepath_or_buffer, kwds)\u001b[0m\n\u001b[0;32m    617\u001b[0m _validate_names(kwds\u001b[38;5;241m.\u001b[39mget(\u001b[38;5;124m\"\u001b[39m\u001b[38;5;124mnames\u001b[39m\u001b[38;5;124m\"\u001b[39m, \u001b[38;5;28;01mNone\u001b[39;00m))\n\u001b[0;32m    619\u001b[0m \u001b[38;5;66;03m# Create the parser.\u001b[39;00m\n\u001b[1;32m--> 620\u001b[0m parser \u001b[38;5;241m=\u001b[39m TextFileReader(filepath_or_buffer, \u001b[38;5;241m*\u001b[39m\u001b[38;5;241m*\u001b[39mkwds)\n\u001b[0;32m    622\u001b[0m \u001b[38;5;28;01mif\u001b[39;00m chunksize \u001b[38;5;129;01mor\u001b[39;00m iterator:\n\u001b[0;32m    623\u001b[0m     \u001b[38;5;28;01mreturn\u001b[39;00m parser\n",
      "File \u001b[1;32mc:\\Users\\Savvas\\Documents\\Projects\\AnomalyDetectionTool\\venv\\lib\\site-packages\\pandas\\io\\parsers\\readers.py:1620\u001b[0m, in \u001b[0;36mTextFileReader.__init__\u001b[1;34m(self, f, engine, **kwds)\u001b[0m\n\u001b[0;32m   1617\u001b[0m     \u001b[38;5;28mself\u001b[39m\u001b[38;5;241m.\u001b[39moptions[\u001b[38;5;124m\"\u001b[39m\u001b[38;5;124mhas_index_names\u001b[39m\u001b[38;5;124m\"\u001b[39m] \u001b[38;5;241m=\u001b[39m kwds[\u001b[38;5;124m\"\u001b[39m\u001b[38;5;124mhas_index_names\u001b[39m\u001b[38;5;124m\"\u001b[39m]\n\u001b[0;32m   1619\u001b[0m \u001b[38;5;28mself\u001b[39m\u001b[38;5;241m.\u001b[39mhandles: IOHandles \u001b[38;5;241m|\u001b[39m \u001b[38;5;28;01mNone\u001b[39;00m \u001b[38;5;241m=\u001b[39m \u001b[38;5;28;01mNone\u001b[39;00m\n\u001b[1;32m-> 1620\u001b[0m \u001b[38;5;28mself\u001b[39m\u001b[38;5;241m.\u001b[39m_engine \u001b[38;5;241m=\u001b[39m \u001b[38;5;28;43mself\u001b[39;49m\u001b[38;5;241;43m.\u001b[39;49m\u001b[43m_make_engine\u001b[49m\u001b[43m(\u001b[49m\u001b[43mf\u001b[49m\u001b[43m,\u001b[49m\u001b[43m \u001b[49m\u001b[38;5;28;43mself\u001b[39;49m\u001b[38;5;241;43m.\u001b[39;49m\u001b[43mengine\u001b[49m\u001b[43m)\u001b[49m\n",
      "File \u001b[1;32mc:\\Users\\Savvas\\Documents\\Projects\\AnomalyDetectionTool\\venv\\lib\\site-packages\\pandas\\io\\parsers\\readers.py:1880\u001b[0m, in \u001b[0;36mTextFileReader._make_engine\u001b[1;34m(self, f, engine)\u001b[0m\n\u001b[0;32m   1878\u001b[0m     \u001b[38;5;28;01mif\u001b[39;00m \u001b[38;5;124m\"\u001b[39m\u001b[38;5;124mb\u001b[39m\u001b[38;5;124m\"\u001b[39m \u001b[38;5;129;01mnot\u001b[39;00m \u001b[38;5;129;01min\u001b[39;00m mode:\n\u001b[0;32m   1879\u001b[0m         mode \u001b[38;5;241m+\u001b[39m\u001b[38;5;241m=\u001b[39m \u001b[38;5;124m\"\u001b[39m\u001b[38;5;124mb\u001b[39m\u001b[38;5;124m\"\u001b[39m\n\u001b[1;32m-> 1880\u001b[0m \u001b[38;5;28mself\u001b[39m\u001b[38;5;241m.\u001b[39mhandles \u001b[38;5;241m=\u001b[39m \u001b[43mget_handle\u001b[49m\u001b[43m(\u001b[49m\n\u001b[0;32m   1881\u001b[0m \u001b[43m    \u001b[49m\u001b[43mf\u001b[49m\u001b[43m,\u001b[49m\n\u001b[0;32m   1882\u001b[0m \u001b[43m    \u001b[49m\u001b[43mmode\u001b[49m\u001b[43m,\u001b[49m\n\u001b[0;32m   1883\u001b[0m \u001b[43m    \u001b[49m\u001b[43mencoding\u001b[49m\u001b[38;5;241;43m=\u001b[39;49m\u001b[38;5;28;43mself\u001b[39;49m\u001b[38;5;241;43m.\u001b[39;49m\u001b[43moptions\u001b[49m\u001b[38;5;241;43m.\u001b[39;49m\u001b[43mget\u001b[49m\u001b[43m(\u001b[49m\u001b[38;5;124;43m\"\u001b[39;49m\u001b[38;5;124;43mencoding\u001b[39;49m\u001b[38;5;124;43m\"\u001b[39;49m\u001b[43m,\u001b[49m\u001b[43m \u001b[49m\u001b[38;5;28;43;01mNone\u001b[39;49;00m\u001b[43m)\u001b[49m\u001b[43m,\u001b[49m\n\u001b[0;32m   1884\u001b[0m \u001b[43m    \u001b[49m\u001b[43mcompression\u001b[49m\u001b[38;5;241;43m=\u001b[39;49m\u001b[38;5;28;43mself\u001b[39;49m\u001b[38;5;241;43m.\u001b[39;49m\u001b[43moptions\u001b[49m\u001b[38;5;241;43m.\u001b[39;49m\u001b[43mget\u001b[49m\u001b[43m(\u001b[49m\u001b[38;5;124;43m\"\u001b[39;49m\u001b[38;5;124;43mcompression\u001b[39;49m\u001b[38;5;124;43m\"\u001b[39;49m\u001b[43m,\u001b[49m\u001b[43m \u001b[49m\u001b[38;5;28;43;01mNone\u001b[39;49;00m\u001b[43m)\u001b[49m\u001b[43m,\u001b[49m\n\u001b[0;32m   1885\u001b[0m \u001b[43m    \u001b[49m\u001b[43mmemory_map\u001b[49m\u001b[38;5;241;43m=\u001b[39;49m\u001b[38;5;28;43mself\u001b[39;49m\u001b[38;5;241;43m.\u001b[39;49m\u001b[43moptions\u001b[49m\u001b[38;5;241;43m.\u001b[39;49m\u001b[43mget\u001b[49m\u001b[43m(\u001b[49m\u001b[38;5;124;43m\"\u001b[39;49m\u001b[38;5;124;43mmemory_map\u001b[39;49m\u001b[38;5;124;43m\"\u001b[39;49m\u001b[43m,\u001b[49m\u001b[43m \u001b[49m\u001b[38;5;28;43;01mFalse\u001b[39;49;00m\u001b[43m)\u001b[49m\u001b[43m,\u001b[49m\n\u001b[0;32m   1886\u001b[0m \u001b[43m    \u001b[49m\u001b[43mis_text\u001b[49m\u001b[38;5;241;43m=\u001b[39;49m\u001b[43mis_text\u001b[49m\u001b[43m,\u001b[49m\n\u001b[0;32m   1887\u001b[0m \u001b[43m    \u001b[49m\u001b[43merrors\u001b[49m\u001b[38;5;241;43m=\u001b[39;49m\u001b[38;5;28;43mself\u001b[39;49m\u001b[38;5;241;43m.\u001b[39;49m\u001b[43moptions\u001b[49m\u001b[38;5;241;43m.\u001b[39;49m\u001b[43mget\u001b[49m\u001b[43m(\u001b[49m\u001b[38;5;124;43m\"\u001b[39;49m\u001b[38;5;124;43mencoding_errors\u001b[39;49m\u001b[38;5;124;43m\"\u001b[39;49m\u001b[43m,\u001b[49m\u001b[43m \u001b[49m\u001b[38;5;124;43m\"\u001b[39;49m\u001b[38;5;124;43mstrict\u001b[39;49m\u001b[38;5;124;43m\"\u001b[39;49m\u001b[43m)\u001b[49m\u001b[43m,\u001b[49m\n\u001b[0;32m   1888\u001b[0m \u001b[43m    \u001b[49m\u001b[43mstorage_options\u001b[49m\u001b[38;5;241;43m=\u001b[39;49m\u001b[38;5;28;43mself\u001b[39;49m\u001b[38;5;241;43m.\u001b[39;49m\u001b[43moptions\u001b[49m\u001b[38;5;241;43m.\u001b[39;49m\u001b[43mget\u001b[49m\u001b[43m(\u001b[49m\u001b[38;5;124;43m\"\u001b[39;49m\u001b[38;5;124;43mstorage_options\u001b[39;49m\u001b[38;5;124;43m\"\u001b[39;49m\u001b[43m,\u001b[49m\u001b[43m \u001b[49m\u001b[38;5;28;43;01mNone\u001b[39;49;00m\u001b[43m)\u001b[49m\u001b[43m,\u001b[49m\n\u001b[0;32m   1889\u001b[0m \u001b[43m\u001b[49m\u001b[43m)\u001b[49m\n\u001b[0;32m   1890\u001b[0m \u001b[38;5;28;01massert\u001b[39;00m \u001b[38;5;28mself\u001b[39m\u001b[38;5;241m.\u001b[39mhandles \u001b[38;5;129;01mis\u001b[39;00m \u001b[38;5;129;01mnot\u001b[39;00m \u001b[38;5;28;01mNone\u001b[39;00m\n\u001b[0;32m   1891\u001b[0m f \u001b[38;5;241m=\u001b[39m \u001b[38;5;28mself\u001b[39m\u001b[38;5;241m.\u001b[39mhandles\u001b[38;5;241m.\u001b[39mhandle\n",
      "File \u001b[1;32mc:\\Users\\Savvas\\Documents\\Projects\\AnomalyDetectionTool\\venv\\lib\\site-packages\\pandas\\io\\common.py:873\u001b[0m, in \u001b[0;36mget_handle\u001b[1;34m(path_or_buf, mode, encoding, compression, memory_map, is_text, errors, storage_options)\u001b[0m\n\u001b[0;32m    868\u001b[0m \u001b[38;5;28;01melif\u001b[39;00m \u001b[38;5;28misinstance\u001b[39m(handle, \u001b[38;5;28mstr\u001b[39m):\n\u001b[0;32m    869\u001b[0m     \u001b[38;5;66;03m# Check whether the filename is to be opened in binary mode.\u001b[39;00m\n\u001b[0;32m    870\u001b[0m     \u001b[38;5;66;03m# Binary mode does not support 'encoding' and 'newline'.\u001b[39;00m\n\u001b[0;32m    871\u001b[0m     \u001b[38;5;28;01mif\u001b[39;00m ioargs\u001b[38;5;241m.\u001b[39mencoding \u001b[38;5;129;01mand\u001b[39;00m \u001b[38;5;124m\"\u001b[39m\u001b[38;5;124mb\u001b[39m\u001b[38;5;124m\"\u001b[39m \u001b[38;5;129;01mnot\u001b[39;00m \u001b[38;5;129;01min\u001b[39;00m ioargs\u001b[38;5;241m.\u001b[39mmode:\n\u001b[0;32m    872\u001b[0m         \u001b[38;5;66;03m# Encoding\u001b[39;00m\n\u001b[1;32m--> 873\u001b[0m         handle \u001b[38;5;241m=\u001b[39m \u001b[38;5;28;43mopen\u001b[39;49m\u001b[43m(\u001b[49m\n\u001b[0;32m    874\u001b[0m \u001b[43m            \u001b[49m\u001b[43mhandle\u001b[49m\u001b[43m,\u001b[49m\n\u001b[0;32m    875\u001b[0m \u001b[43m            \u001b[49m\u001b[43mioargs\u001b[49m\u001b[38;5;241;43m.\u001b[39;49m\u001b[43mmode\u001b[49m\u001b[43m,\u001b[49m\n\u001b[0;32m    876\u001b[0m \u001b[43m            \u001b[49m\u001b[43mencoding\u001b[49m\u001b[38;5;241;43m=\u001b[39;49m\u001b[43mioargs\u001b[49m\u001b[38;5;241;43m.\u001b[39;49m\u001b[43mencoding\u001b[49m\u001b[43m,\u001b[49m\n\u001b[0;32m    877\u001b[0m \u001b[43m            \u001b[49m\u001b[43merrors\u001b[49m\u001b[38;5;241;43m=\u001b[39;49m\u001b[43merrors\u001b[49m\u001b[43m,\u001b[49m\n\u001b[0;32m    878\u001b[0m \u001b[43m            \u001b[49m\u001b[43mnewline\u001b[49m\u001b[38;5;241;43m=\u001b[39;49m\u001b[38;5;124;43m\"\u001b[39;49m\u001b[38;5;124;43m\"\u001b[39;49m\u001b[43m,\u001b[49m\n\u001b[0;32m    879\u001b[0m \u001b[43m        \u001b[49m\u001b[43m)\u001b[49m\n\u001b[0;32m    880\u001b[0m     \u001b[38;5;28;01melse\u001b[39;00m:\n\u001b[0;32m    881\u001b[0m         \u001b[38;5;66;03m# Binary mode\u001b[39;00m\n\u001b[0;32m    882\u001b[0m         handle \u001b[38;5;241m=\u001b[39m \u001b[38;5;28mopen\u001b[39m(handle, ioargs\u001b[38;5;241m.\u001b[39mmode)\n",
      "\u001b[1;31mFileNotFoundError\u001b[0m: [Errno 2] No such file or directory: 'c:\\\\Users\\\\Savvas\\\\Documents\\\\Projects\\\\AnomalyDetectionTool\\\\notebooks\\\\..\\\\test_files\\\\txt_file.csv'"
     ]
    }
   ],
   "source": [
    "from src.data_processing.DataReader import DataReader\n",
    "object_of_class = DataReader(txt_file_path)\n",
    "object_of_class.get_user_data_df()"
   ]
  },
  {
   "cell_type": "code",
   "execution_count": 56,
   "metadata": {},
   "outputs": [
    {
     "data": {
      "text/plain": [
       "array([[10, 11],\n",
       "       [12, 13],\n",
       "       [14, 15],\n",
       "       [16, 17]])"
      ]
     },
     "execution_count": 56,
     "metadata": {},
     "output_type": "execute_result"
    }
   ],
   "source": [
    "import numpy as np\n",
    "ind = np.array([0,1,2,3])\n",
    "ind.shape = (4,1)\n",
    "ind\n",
    "\n",
    "arr=np.array([10,11,12,13,14,15,16,17])\n",
    "arr.shape = (4,2)\n",
    "arr"
   ]
  },
  {
   "cell_type": "code",
   "execution_count": 54,
   "metadata": {},
   "outputs": [
    {
     "data": {
      "text/plain": [
       "7"
      ]
     },
     "execution_count": 54,
     "metadata": {},
     "output_type": "execute_result"
    }
   ],
   "source": [
    "len(arr)"
   ]
  },
  {
   "cell_type": "code",
   "execution_count": 48,
   "metadata": {},
   "outputs": [
    {
     "data": {
      "text/plain": [
       "array([[False],\n",
       "       [ True],\n",
       "       [ True]])"
      ]
     },
     "execution_count": 48,
     "metadata": {},
     "output_type": "execute_result"
    }
   ],
   "source": [
    "cond = arr>3\n",
    "cond"
   ]
  },
  {
   "cell_type": "code",
   "execution_count": 49,
   "metadata": {},
   "outputs": [
    {
     "data": {
      "text/plain": [
       "array([1, 2])"
      ]
     },
     "execution_count": 49,
     "metadata": {},
     "output_type": "execute_result"
    }
   ],
   "source": [
    "ind[cond]"
   ]
  },
  {
   "cell_type": "code",
   "execution_count": 50,
   "metadata": {},
   "outputs": [
    {
     "data": {
      "text/plain": [
       "array([[5],\n",
       "       [7]])"
      ]
     },
     "execution_count": 50,
     "metadata": {},
     "output_type": "execute_result"
    }
   ],
   "source": [
    "arr[ind[cond],:]"
   ]
  },
  {
   "cell_type": "code",
   "execution_count": 20,
   "metadata": {},
   "outputs": [
    {
     "data": {
      "text/plain": [
       "array([2, 3])"
      ]
     },
     "execution_count": 20,
     "metadata": {},
     "output_type": "execute_result"
    }
   ],
   "source": [
    "new_cond = "
   ]
  },
  {
   "cell_type": "code",
   "execution_count": 32,
   "metadata": {},
   "outputs": [
    {
     "data": {
      "text/plain": [
       "array([[3],\n",
       "       [5],\n",
       "       [7]])"
      ]
     },
     "execution_count": 32,
     "metadata": {},
     "output_type": "execute_result"
    }
   ],
   "source": [
    "arr"
   ]
  },
  {
   "cell_type": "code",
   "execution_count": 35,
   "metadata": {},
   "outputs": [
    {
     "ename": "IndexError",
     "evalue": "index 3 is out of bounds for axis 0 with size 3",
     "output_type": "error",
     "traceback": [
      "\u001b[1;31m---------------------------------------------------------------------------\u001b[0m",
      "\u001b[1;31mIndexError\u001b[0m                                Traceback (most recent call last)",
      "Cell \u001b[1;32mIn[35], line 1\u001b[0m\n\u001b[1;32m----> 1\u001b[0m \u001b[43marr\u001b[49m\u001b[43m[\u001b[49m\u001b[43mind\u001b[49m\u001b[43m[\u001b[49m\u001b[43mcondition\u001b[49m\u001b[43m]\u001b[49m\u001b[43m,\u001b[49m\u001b[43m:\u001b[49m\u001b[43m]\u001b[49m\n",
      "\u001b[1;31mIndexError\u001b[0m: index 3 is out of bounds for axis 0 with size 3"
     ]
    }
   ],
   "source": [
    "arr[ind[condition],:]"
   ]
  },
  {
   "cell_type": "code",
   "execution_count": 24,
   "metadata": {},
   "outputs": [
    {
     "data": {
      "text/plain": [
       "array([[3],\n",
       "       [5],\n",
       "       [7]])"
      ]
     },
     "execution_count": 24,
     "metadata": {},
     "output_type": "execute_result"
    }
   ],
   "source": [
    "arr"
   ]
  },
  {
   "cell_type": "code",
   "execution_count": 63,
   "metadata": {},
   "outputs": [
    {
     "name": "stdout",
     "output_type": "stream",
     "text": [
      "[[ 2]\n",
      " [16]\n",
      " [ 0]\n",
      " [ 9]\n",
      " [ 2]\n",
      " [13]\n",
      " [ 8]\n",
      " [ 4]\n",
      " [19]\n",
      " [14]\n",
      " [ 6]\n",
      " [12]\n",
      " [10]\n",
      " [ 3]\n",
      " [15]\n",
      " [ 2]\n",
      " [18]\n",
      " [ 4]\n",
      " [17]\n",
      " [13]]\n"
     ]
    }
   ],
   "source": []
  },
  {
   "cell_type": "code",
   "execution_count": 14,
   "metadata": {},
   "outputs": [
    {
     "data": {
      "text/plain": [
       "True"
      ]
     },
     "execution_count": 14,
     "metadata": {},
     "output_type": "execute_result"
    }
   ],
   "source": [
    "3 in [3,4,5]"
   ]
  },
  {
   "cell_type": "code",
   "execution_count": 23,
   "metadata": {},
   "outputs": [
    {
     "data": {
      "text/plain": [
       "array([3, 4])"
      ]
     },
     "execution_count": 23,
     "metadata": {},
     "output_type": "execute_result"
    }
   ],
   "source": [
    "a = np.array([3,4,5,6])\n",
    "np.invert(a>4)\n",
    "a[np.invert(a>4)]"
   ]
  },
  {
   "cell_type": "code",
   "execution_count": 34,
   "metadata": {},
   "outputs": [
    {
     "data": {
      "text/plain": [
       "20"
      ]
     },
     "execution_count": 34,
     "metadata": {},
     "output_type": "execute_result"
    }
   ],
   "source": [
    "len(data_index)\n",
    "da"
   ]
  },
  {
   "cell_type": "code",
   "execution_count": null,
   "metadata": {},
   "outputs": [],
   "source": []
  },
  {
   "cell_type": "code",
   "execution_count": null,
   "metadata": {},
   "outputs": [],
   "source": []
  },
  {
   "cell_type": "code",
   "execution_count": 99,
   "metadata": {},
   "outputs": [
    {
     "name": "stdout",
     "output_type": "stream",
     "text": [
      "data=array([[ 1],\n",
      "       [ 8],\n",
      "       [ 1],\n",
      "       [14],\n",
      "       [11]])\n",
      "data_index=array([[0],\n",
      "       [1],\n",
      "       [2],\n",
      "       [3],\n",
      "       [4]])\n"
     ]
    }
   ],
   "source": [
    "import numpy as np\n",
    "data_index = np.arange(5).reshape((5,1))\n",
    "data = np.random.randint(0,20,5).reshape(5,1)\n",
    "print (f'{data=}')\n",
    "print (f'{data_index=}')"
   ]
  },
  {
   "cell_type": "code",
   "execution_count": 133,
   "metadata": {},
   "outputs": [
    {
     "data": {
      "text/plain": [
       "array([[ True],\n",
       "       [False],\n",
       "       [ True],\n",
       "       [False],\n",
       "       [False]])"
      ]
     },
     "execution_count": 133,
     "metadata": {},
     "output_type": "execute_result"
    }
   ],
   "source": [
    "def method1(data, number):\n",
    "    return data<number\n",
    "\n",
    "method1(data, 7)"
   ]
  },
  {
   "cell_type": "code",
   "execution_count": 161,
   "metadata": {},
   "outputs": [
    {
     "name": "stdout",
     "output_type": "stream",
     "text": [
      "value_positions=array([[False],\n",
      "       [ True],\n",
      "       [False],\n",
      "       [ True],\n",
      "       [ True]])\n",
      "outlier_positions=array([[ True],\n",
      "       [False],\n",
      "       [ True],\n",
      "       [False],\n",
      "       [False]])\n",
      "new_data=array([[ 8],\n",
      "       [14],\n",
      "       [11]])\n",
      "new_data_index=array([[1],\n",
      "       [3],\n",
      "       [4]])\n",
      "new_data=array([[14],\n",
      "       [11]])\n",
      "new_data_index=array([[3],\n",
      "       [4]])\n",
      "-------\n",
      "[[0, 2], [1]]\n"
     ]
    }
   ],
   "source": [
    "####Works\n",
    "def iteration_method(method, data, data_index):\n",
    "    new_data = np.array(data, copy=True)\n",
    "    new_data_index = np.array(data_index, copy=True)\n",
    "    outlier_indexes_found_after_iterations = []\n",
    "\n",
    "    number = 7        \n",
    "    outlier_positions = method(new_data, number)\n",
    "    outlier_indexes = data_index[outlier_positions]\n",
    "    value_positions = np.invert(outlier_positions)\n",
    "\n",
    "    new_data_len = sum(value_positions)[0]\n",
    "    num_of_outliers_found = sum(outlier_positions)[0]\n",
    "\n",
    "    print (f'{value_positions=}')\n",
    "    print (f'{outlier_positions=}')\n",
    "    new_data = new_data[value_positions].reshape((new_data_len,1))\n",
    "    new_data_index = new_data_index[value_positions].reshape((new_data_len,1))\n",
    "    outlier_indexes_found_after_iterations.append(outlier_indexes.tolist())\n",
    "\n",
    "    print (f'{new_data=}')\n",
    "    print (f'{new_data_index=}')\n",
    "\n",
    "\n",
    "\n",
    "    number = number+2\n",
    "    outlier_positions = method(new_data, number)\n",
    "    outlier_indexes = new_data_index[outlier_positions]\n",
    "    value_positions = np.invert(outlier_positions)\n",
    "    new_data_len = sum(value_positions)[0]\n",
    "    num_of_outliers_found = sum(outlier_positions)[0]\n",
    "    new_data = new_data[value_positions].reshape((new_data_len,1))\n",
    "    new_data_index = new_data_index[value_positions].reshape((new_data_len,1))\n",
    "    outlier_indexes_found_after_iterations.append(outlier_indexes.tolist())\n",
    "\n",
    "\n",
    "    print (f'{new_data=}')\n",
    "    print (f'{new_data_index=}')\n",
    "    print ('-'*7)\n",
    "    print(outlier_indexes_found_after_iterations)\n",
    "    \n",
    "    return None\n",
    "\n",
    "iteration_method(method1, data, data_index)"
   ]
  },
  {
   "cell_type": "code",
   "execution_count": 60,
   "metadata": {},
   "outputs": [
    {
     "data": {
      "text/plain": [
       "array(['a', 'b'], dtype='<U1')"
      ]
     },
     "execution_count": 60,
     "metadata": {},
     "output_type": "execute_result"
    }
   ],
   "source": [
    "np.array(['a', 'b'])"
   ]
  },
  {
   "cell_type": "code",
   "execution_count": 20,
   "metadata": {},
   "outputs": [
    {
     "name": "stdout",
     "output_type": "stream",
     "text": [
      "data=array([[ 5],\n",
      "       [ 4],\n",
      "       [14],\n",
      "       [18],\n",
      "       [11]])\n",
      "data_index=array([[0],\n",
      "       [1],\n",
      "       [2],\n",
      "       [3],\n",
      "       [4]])\n"
     ]
    }
   ],
   "source": [
    "import numpy as np\n",
    "data_index = np.arange(5).reshape((5,1))\n",
    "data = np.random.randint(0,20,5).reshape(5,1)\n",
    "print (f'{data=}')\n",
    "print (f'{data_index=}')"
   ]
  },
  {
   "cell_type": "code",
   "execution_count": 57,
   "metadata": {},
   "outputs": [],
   "source": [
    "from numpy.typing import NDArray\n",
    "\n",
    "\n",
    "def method1(data, number):\n",
    "    return data<number\n",
    "\n",
    "#refactoring in process\n",
    "def iteration_method(method, data, data_index) -> tuple[list,list]:\n",
    "    new_data = np.array(data, copy=True)\n",
    "    new_data_index = np.array(data_index, copy=True)\n",
    "    outlier_indexes_per_iterations = []\n",
    "\n",
    "    number = 7\n",
    "    i = 0\n",
    "    while True and i<10 and len(new_data_index)>0:\n",
    "        outlier_positions = method(new_data, number)\n",
    "        outlier_indexes = new_data_index[outlier_positions]\n",
    "        value_positions = np.invert(outlier_positions)\n",
    "        new_data_len = sum(value_positions)[0]\n",
    "        new_data = new_data[value_positions].reshape((new_data_len,1))\n",
    "        new_data_index = new_data_index[value_positions].reshape((new_data_len,1))\n",
    "        outlier_indexes_per_iterations.append(outlier_indexes.tolist())\n",
    "        number = number+2\n",
    "        i += 1\n",
    "        \n",
    "    list_all_outlier_indexes = np.concatenate(outlier_indexes_per_iterations)\n",
    "    list_all_outlier_indexes = [int(i) for i in list_all_outlier_indexes]\n",
    "    \n",
    "    return outlier_indexes_per_iterations, list_all_outlier_indexes\n",
    "\n",
    "test1, _ = iteration_method(method1, data, data_index)"
   ]
  },
  {
   "cell_type": "code",
   "execution_count": null,
   "metadata": {},
   "outputs": [],
   "source": [
    "def method1_iteration(data, data_index):\n",
    "    outlier_indexes_per_iterations, list_all_outlier_indexes = iteration_method(method1,data,data_index)\n",
    "    \n"
   ]
  },
  {
   "cell_type": "code",
   "execution_count": 72,
   "metadata": {},
   "outputs": [
    {
     "data": {
      "text/plain": [
       "array([ True, False])"
      ]
     },
     "execution_count": 72,
     "metadata": {},
     "output_type": "execute_result"
    }
   ],
   "source": [
    "def combine_outlier_booleans(*arg_bool):\n",
    "    \"\"\"gets any number of outlier_bool from different methods and \n",
    "    combines them. It is ment to be used to combine outliers found \n",
    "    from different methods to make a list of final outliers. \n",
    "\n",
    "    Returns:\n",
    "        _type_: np.array(booleans)\n",
    "    \"\"\"\n",
    "    combined_outlier_bool = np.array([False]*len(arg_bool[0]))\n",
    "    for bool in arg_bool:\n",
    "        combined_outlier_bool[bool]=True\n",
    "\n",
    "    return combined_outlier_bool\n",
    "\n",
    "\n",
    "ar1 = np.array([True, False])\n",
    "ar2 = np.array([False,True])\n",
    "combine_outlier_booleans(ar1)"
   ]
  },
  {
   "cell_type": "code",
   "execution_count": 69,
   "metadata": {},
   "outputs": [
    {
     "data": {
      "text/plain": [
       "array(['blue', 'red', 'blue'], dtype='<U4')"
      ]
     },
     "execution_count": 69,
     "metadata": {},
     "output_type": "execute_result"
    }
   ],
   "source": [
    "test1 = np.array(['blue']*3)\n",
    "mask = np.array([False,True,False])\n",
    "test1[mask]\n",
    "test1[mask]='red'\n",
    "test1"
   ]
  },
  {
   "cell_type": "code",
   "execution_count": 71,
   "metadata": {},
   "outputs": [
    {
     "name": "stdout",
     "output_type": "stream",
     "text": [
      "1\n",
      "2\n",
      "3\n",
      "4\n"
     ]
    }
   ],
   "source": [
    "test1 = [1,2,3,4]\n",
    "for i in test1:\n",
    "    print (i)"
   ]
  },
  {
   "cell_type": "code",
   "execution_count": 9,
   "metadata": {},
   "outputs": [
    {
     "data": {
      "text/plain": [
       "4.0"
      ]
     },
     "execution_count": 9,
     "metadata": {},
     "output_type": "execute_result"
    }
   ],
   "source": [
    "import scipy.stats as stats\n",
    "import numpy as np\n",
    "x = [0, 1, 2, 3, 4, 5, 6, 7, 8, 9, 10]\n",
    "\n",
    "stats.median_abs_deviation(x, scale=0.75)"
   ]
  },
  {
   "cell_type": "code",
   "execution_count": 10,
   "metadata": {},
   "outputs": [
    {
     "data": {
      "text/plain": [
       "3.0"
      ]
     },
     "execution_count": 10,
     "metadata": {},
     "output_type": "execute_result"
    }
   ],
   "source": [
    "(np.median(np.absolute(x - np.median(x))))"
   ]
  },
  {
   "cell_type": "code",
   "execution_count": 11,
   "metadata": {},
   "outputs": [],
   "source": [
    "x = np.random.randn(50)"
   ]
  },
  {
   "cell_type": "code",
   "execution_count": 13,
   "metadata": {},
   "outputs": [
    {
     "data": {
      "text/plain": [
       "[<matplotlib.lines.Line2D at 0x1a7607113d0>]"
      ]
     },
     "execution_count": 13,
     "metadata": {},
     "output_type": "execute_result"
    },
    {
     "data": {
      "image/png": "[encoded data removed]",
      "text/plain": [
       "<Figure size 640x480 with 1 Axes>"
      ]
     },
     "metadata": {},
     "output_type": "display_data"
    }
   ],
   "source": [
    "import matplotlib.pyplot as plt\n",
    "plt.plot(x)\n",
    "\n",
    "median=np.median(data)\n",
    "MAD = stats.median_abs_deviation(data, scale=1)\n",
    "m_z_score = stats.norm.ppf(.75)*(data-median) / MAD\n",
    "\n",
    "mean = np.mean(data)\n",
    "std =  np.std(data)\n",
    "z_score = (data - mean) / std"
   ]
  },
  {
   "cell_type": "code",
   "execution_count": null,
   "metadata": {},
   "outputs": [],
   "source": []
  }
 ],
 "metadata": {
  "kernelspec": {
   "display_name": "venv",
   "language": "python",
   "name": "python3"
  },
  "language_info": {
   "codemirror_mode": {
    "name": "ipython",
    "version": 3
   },
   "file_extension": ".py",
   "mimetype": "text/x-python",
   "name": "python",
   "nbconvert_exporter": "python",
   "pygments_lexer": "ipython3",
   "version": "3.9.6"
  }
 },
 "nbformat": 4,
 "nbformat_minor": 2
}
