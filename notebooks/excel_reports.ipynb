{
 "cells": [
  {
   "cell_type": "code",
   "execution_count": null,
   "metadata": {},
   "outputs": [],
   "source": [
    "import pandas as pd\n"
   ]
  },
  {
   "cell_type": "code",
   "execution_count": null,
   "metadata": {},
   "outputs": [],
   "source": [
    "# clustering_info = pd.concat([\n",
    "#                              pd.DataFrame([answers_per_cluster_after_sorting], columns = [str(i) for i in range(CLUSTER_NO)]),\n",
    "#                              pd.DataFrame(cluster_top_features,columns = [str(i) for i in range(CLUSTER_NO)]),\n",
    "#                              pd.DataFrame(feature_counts_percent,columns = [str(i) for i in range(CLUSTER_NO)]),\n",
    "#                              pd.DataFrame(cluster_graded_features,columns = [str(i) for i in range(CLUSTER_NO)]),\n",
    "#                             ],keys = ['answer counts',\n",
    "#                                       'top_5_features',\n",
    "#                                       'answer_counts_per_feature_(%)',\n",
    "#                                       'feature_contribution_(%)'])\n",
    "\n",
    "# with pd.ExcelWriter(\"Clustered_data.xlsx\") as writer:\n",
    "#     clustered_data.to_excel(writer, sheet_name=\"Question_1\", index=False)\n",
    "#     cluster_summary.to_excel(writer, sheet_name=\"model\", index=False)\n",
    "#     clustering_info.to_excel(writer, sheet_name=\"clustering_report\", index = True)"
   ]
  },
  {
   "cell_type": "code",
   "execution_count": 2,
   "metadata": {},
   "outputs": [],
   "source": [
    "import pandas as pd\n",
    "def write_df_to_xlsx_file(df, xls_filename :str = None, sheet_name:str = 'Sheet1'):\n",
    "    with pd.ExcelWriter(f\"{xls_filename}.xlsx\") as writer:\n",
    "        df.to_excel(writer, sheet_name=sheet_name, index=False)\n",
    "        \n",
    "df = pd.DataFrame({'col1':[1,2,3,4,5]})\n",
    "write_df_to_xlsx_file(df=df, xls_filename='testing_file_delete')"
   ]
  },
  {
   "cell_type": "code",
   "execution_count": 7,
   "metadata": {},
   "outputs": [],
   "source": [
    "def export_dfs_to_excel_sheets(df_list,sheet_name_list, xls_filename):\n",
    "    with pd.ExcelWriter(f\"{xls_filename}.xlsx\") as writer:\n",
    "        for i in range (len(df_list)): \n",
    "            df_list[i].to_excel(writer, sheet_name=sheet_name_list[i], index=False)\n",
    "            \n",
    "\n",
    "df1 = pd.DataFrame({'col1':[1,2,3,4,5]})\n",
    "df2 = pd.DataFrame({'col1':[6,7,8,9,10]})\n",
    "sheet_names = ['sheet1test', 'sheet2test']\n",
    "export_dfs_to_excel_sheets(df_list=[df1.T,df2.T],sheet_name_list = sheet_names, xls_filename='file_from_test1')\n"
   ]
  },
  {
   "cell_type": "code",
   "execution_count": 8,
   "metadata": {},
   "outputs": [
    {
     "data": {
      "text/html": [
       "<div>\n",
       "<style scoped>\n",
       "    .dataframe tbody tr th:only-of-type {\n",
       "        vertical-align: middle;\n",
       "    }\n",
       "\n",
       "    .dataframe tbody tr th {\n",
       "        vertical-align: top;\n",
       "    }\n",
       "\n",
       "    .dataframe thead th {\n",
       "        text-align: right;\n",
       "    }\n",
       "</style>\n",
       "<table border=\"1\" class=\"dataframe\">\n",
       "  <thead>\n",
       "    <tr style=\"text-align: right;\">\n",
       "      <th></th>\n",
       "      <th>col1</th>\n",
       "      <th>col2</th>\n",
       "    </tr>\n",
       "  </thead>\n",
       "  <tbody>\n",
       "    <tr>\n",
       "      <th>0</th>\n",
       "      <td>[1, 2]</td>\n",
       "      <td>6</td>\n",
       "    </tr>\n",
       "    <tr>\n",
       "      <th>1</th>\n",
       "      <td>[2, 3]</td>\n",
       "      <td>7</td>\n",
       "    </tr>\n",
       "    <tr>\n",
       "      <th>2</th>\n",
       "      <td>[3, 4]</td>\n",
       "      <td>8</td>\n",
       "    </tr>\n",
       "    <tr>\n",
       "      <th>3</th>\n",
       "      <td>[4, 5]</td>\n",
       "      <td>9</td>\n",
       "    </tr>\n",
       "    <tr>\n",
       "      <th>4</th>\n",
       "      <td>[5, 6]</td>\n",
       "      <td>10</td>\n",
       "    </tr>\n",
       "  </tbody>\n",
       "</table>\n",
       "</div>"
      ],
      "text/plain": [
       "     col1  col2\n",
       "0  [1, 2]     6\n",
       "1  [2, 3]     7\n",
       "2  [3, 4]     8\n",
       "3  [4, 5]     9\n",
       "4  [5, 6]    10"
      ]
     },
     "execution_count": 8,
     "metadata": {},
     "output_type": "execute_result"
    }
   ],
   "source": [
    "df1 = pd.DataFrame({'col1':[[1,2],[2,3],[3,4],[4,5],[5,6]],'col2':[6,7,8,9,10]})\n",
    "df1"
   ]
  },
  {
   "cell_type": "code",
   "execution_count": 9,
   "metadata": {},
   "outputs": [
    {
     "data": {
      "text/html": [
       "<div>\n",
       "<style scoped>\n",
       "    .dataframe tbody tr th:only-of-type {\n",
       "        vertical-align: middle;\n",
       "    }\n",
       "\n",
       "    .dataframe tbody tr th {\n",
       "        vertical-align: top;\n",
       "    }\n",
       "\n",
       "    .dataframe thead th {\n",
       "        text-align: right;\n",
       "    }\n",
       "</style>\n",
       "<table border=\"1\" class=\"dataframe\">\n",
       "  <thead>\n",
       "    <tr style=\"text-align: right;\">\n",
       "      <th></th>\n",
       "      <th>0</th>\n",
       "      <th>1</th>\n",
       "      <th>2</th>\n",
       "      <th>3</th>\n",
       "      <th>4</th>\n",
       "    </tr>\n",
       "  </thead>\n",
       "  <tbody>\n",
       "    <tr>\n",
       "      <th>col1</th>\n",
       "      <td>[1, 2]</td>\n",
       "      <td>[2, 3]</td>\n",
       "      <td>[3, 4]</td>\n",
       "      <td>[4, 5]</td>\n",
       "      <td>[5, 6]</td>\n",
       "    </tr>\n",
       "    <tr>\n",
       "      <th>col2</th>\n",
       "      <td>6</td>\n",
       "      <td>7</td>\n",
       "      <td>8</td>\n",
       "      <td>9</td>\n",
       "      <td>10</td>\n",
       "    </tr>\n",
       "  </tbody>\n",
       "</table>\n",
       "</div>"
      ],
      "text/plain": [
       "           0       1       2       3       4\n",
       "col1  [1, 2]  [2, 3]  [3, 4]  [4, 5]  [5, 6]\n",
       "col2       6       7       8       9      10"
      ]
     },
     "execution_count": 9,
     "metadata": {},
     "output_type": "execute_result"
    }
   ],
   "source": [
    "df1.T"
   ]
  },
  {
   "cell_type": "code",
   "execution_count": null,
   "metadata": {},
   "outputs": [],
   "source": []
  }
 ],
 "metadata": {
  "kernelspec": {
   "display_name": "venv",
   "language": "python",
   "name": "python3"
  },
  "language_info": {
   "codemirror_mode": {
    "name": "ipython",
    "version": 3
   },
   "file_extension": ".py",
   "mimetype": "text/x-python",
   "name": "python",
   "nbconvert_exporter": "python",
   "pygments_lexer": "ipython3",
   "version": "3.9.6"
  }
 },
 "nbformat": 4,
 "nbformat_minor": 2
}
